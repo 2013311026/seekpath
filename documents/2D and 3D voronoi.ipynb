{
 "cells": [
  {
   "cell_type": "code",
   "execution_count": 1,
   "metadata": {
    "collapsed": false
   },
   "outputs": [
    {
     "name": "stdout",
     "output_type": "stream",
     "text": [
      "Populating the interactive namespace from numpy and matplotlib\n"
     ]
    }
   ],
   "source": [
    "import numpy as np\n",
    "from scipy.spatial import Voronoi, voronoi_plot_2d\n",
    "import matplotlib.pyplot as plt\n",
    "%pylab inline"
   ]
  },
  {
   "cell_type": "code",
   "execution_count": 2,
   "metadata": {
    "collapsed": false
   },
   "outputs": [],
   "source": [
    "points = np.array([[0, 0], [0, 1], [0, 2], [1, 0], [0.6, 1.1], [1, 2],\n",
    "                   [2, 0], [2, 1], [2, 2]])\n",
    "vor = Voronoi(points)"
   ]
  },
  {
   "cell_type": "code",
   "execution_count": 3,
   "metadata": {
    "collapsed": false
   },
   "outputs": [
    {
     "name": "stderr",
     "output_type": "stream",
     "text": [
      "/usr/local/lib/python2.7/dist-packages/matplotlib/collections.py:590: FutureWarning: elementwise comparison failed; returning scalar instead, but in the future will perform elementwise comparison\n",
      "  if self._edgecolors == str('face'):\n"
     ]
    },
    {
     "data": {
      "image/png": "[encoded data removed]",
      "text/plain": [
       "<matplotlib.figure.Figure at 0x7f0884d66d90>"
      ]
     },
     "execution_count": 3,
     "metadata": {},
     "output_type": "execute_result"
    },
    {
     "data": {
      "image/png": "[encoded data removed]",
      "text/plain": [
       "<matplotlib.figure.Figure at 0x7f0884d66d90>"
      ]
     },
     "metadata": {},
     "output_type": "display_data"
    }
   ],
   "source": [
    "voronoi_plot_2d(vor)"
   ]
  },
  {
   "cell_type": "code",
   "execution_count": 4,
   "metadata": {
    "collapsed": false
   },
   "outputs": [
    {
     "data": {
      "text/plain": [
       "array([[ 0.39166667,  0.5       ],\n",
       "       [ 0.225     ,  1.5       ],\n",
       "       [ 0.5       ,  0.44090909],\n",
       "       [ 1.5       ,  0.5       ],\n",
       "       [ 1.27666667,  0.72333333],\n",
       "       [ 0.5       ,  1.68333333],\n",
       "       [ 1.5       ,  1.5       ],\n",
       "       [ 1.31923077,  1.31923077]])"
      ]
     },
     "execution_count": 4,
     "metadata": {},
     "output_type": "execute_result"
    }
   ],
   "source": [
    "vor.vertices"
   ]
  },
  {
   "cell_type": "code",
   "execution_count": 5,
   "metadata": {
    "collapsed": false
   },
   "outputs": [
    {
     "data": {
      "text/plain": [
       "[[],\n",
       " [1, -1, 0],\n",
       " [2, 0, -1],\n",
       " [3, -1],\n",
       " [4, 2, -1, 3],\n",
       " [7, 5, -1, 6],\n",
       " [6, -1],\n",
       " [5, 1, -1],\n",
       " [7, 4, 2, 0, 1, 5],\n",
       " [7, 4, 3, -1, 6]]"
      ]
     },
     "execution_count": 5,
     "metadata": {},
     "output_type": "execute_result"
    }
   ],
   "source": [
    "vor.regions"
   ]
  },
  {
   "cell_type": "markdown",
   "metadata": {},
   "source": [
    "The \"central\" point"
   ]
  },
  {
   "cell_type": "code",
   "execution_count": 6,
   "metadata": {
    "collapsed": false
   },
   "outputs": [
    {
     "data": {
      "text/plain": [
       "array([ 0.6,  1.1])"
      ]
     },
     "execution_count": 6,
     "metadata": {},
     "output_type": "execute_result"
    }
   ],
   "source": [
    "vor.points[4]"
   ]
  },
  {
   "cell_type": "markdown",
   "metadata": {},
   "source": [
    "The corresponding region"
   ]
  },
  {
   "cell_type": "code",
   "execution_count": 7,
   "metadata": {
    "collapsed": false
   },
   "outputs": [
    {
     "data": {
      "text/plain": [
       "8"
      ]
     },
     "execution_count": 7,
     "metadata": {},
     "output_type": "execute_result"
    }
   ],
   "source": [
    "vor.point_region[4]"
   ]
  },
  {
   "cell_type": "markdown",
   "metadata": {},
   "source": [
    "The edges of the region (if -1 is there, it means a vertex outside the Voronoi diagram, see http://scipy.github.io/devdocs/generated/scipy.spatial.Voronoi.html)"
   ]
  },
  {
   "cell_type": "code",
   "execution_count": 8,
   "metadata": {
    "collapsed": false
   },
   "outputs": [
    {
     "data": {
      "text/plain": [
       "[7, 4, 2, 0, 1, 5]"
      ]
     },
     "execution_count": 8,
     "metadata": {},
     "output_type": "execute_result"
    }
   ],
   "source": [
    "vor.regions[vor.point_region[4]]"
   ]
  },
  {
   "cell_type": "markdown",
   "metadata": {},
   "source": [
    "The corresponding point coords"
   ]
  },
  {
   "cell_type": "code",
   "execution_count": 9,
   "metadata": {
    "collapsed": false
   },
   "outputs": [
    {
     "name": "stdout",
     "output_type": "stream",
     "text": [
      "[[ 1.31923077  1.31923077]\n",
      " [ 1.27666667  0.72333333]\n",
      " [ 0.5         0.44090909]\n",
      " [ 0.39166667  0.5       ]\n",
      " [ 0.225       1.5       ]\n",
      " [ 0.5         1.68333333]]\n"
     ]
    }
   ],
   "source": [
    "central_voronoi = np.array([vor.vertices[idx] for idx in vor.regions[vor.point_region[4]]])\n",
    "print central_voronoi"
   ]
  },
  {
   "cell_type": "code",
   "execution_count": 10,
   "metadata": {
    "collapsed": false
   },
   "outputs": [
    {
     "data": {
      "text/plain": [
       "[<matplotlib.patches.Polygon at 0x7f085c2f1690>]"
      ]
     },
     "execution_count": 10,
     "metadata": {},
     "output_type": "execute_result"
    },
    {
     "data": {
      "image/png": "[encoded data removed]",
      "text/plain": [
       "<matplotlib.figure.Figure at 0x7f0864b87110>"
      ]
     },
     "metadata": {},
     "output_type": "display_data"
    }
   ],
   "source": [
    "voronoi_plot_2d(vor)\n",
    "plot(central_voronoi[:,0], central_voronoi[:,1], 'x')\n",
    "fill(*central_voronoi.T, color='#AAAAFF')"
   ]
  },
  {
   "cell_type": "markdown",
   "metadata": {},
   "source": [
    "# Now, in 3D!"
   ]
  },
  {
   "cell_type": "code",
   "execution_count": 85,
   "metadata": {
    "collapsed": true
   },
   "outputs": [],
   "source": [
    "b1 = np.array([1,1,0]); b2 = np.array([1,0,1]); b3 = np.array([0,1,1])\n",
    "#b1 = np.array([1,0,0]); b2 = np.array([0,1,0]); b3 = np.array([0,0,1])\n",
    "supercell_size = 2\n",
    "points3d = []\n",
    "central_idx = None\n",
    "for i in range(-supercell_size, supercell_size+1):\n",
    "    for j in range(-supercell_size, supercell_size+1):\n",
    "        for k in range(-supercell_size, supercell_size+1):\n",
    "            if i==0 and j==0 and k==0:\n",
    "                central_idx = len(points3d)\n",
    "            points3d.append(i*b1 + j*b2 + k*b3)"
   ]
  },
  {
   "cell_type": "code",
   "execution_count": 86,
   "metadata": {
    "collapsed": false,
    "scrolled": true
   },
   "outputs": [],
   "source": [
    "vor3d = Voronoi(np.array(points3d))"
   ]
  },
  {
   "cell_type": "code",
   "execution_count": 87,
   "metadata": {
    "collapsed": false
   },
   "outputs": [
    {
     "data": {
      "text/plain": [
       "array([[-0.5,  0.5, -0.5],\n",
       "       [ 0.5, -0.5, -0.5],\n",
       "       [ 0.5,  0.5, -0.5],\n",
       "       [ 0. ,  0. , -1. ],\n",
       "       [ 1. ,  0. ,  0. ],\n",
       "       [ 0.5,  0.5,  0.5],\n",
       "       [ 0. ,  1. ,  0. ],\n",
       "       [-0.5, -0.5, -0.5],\n",
       "       [-0.5,  0.5,  0.5],\n",
       "       [-1. ,  0. ,  0. ],\n",
       "       [ 0.5, -0.5,  0.5],\n",
       "       [-0.5, -0.5,  0.5],\n",
       "       [ 0. ,  0. ,  1. ],\n",
       "       [ 0. , -1. ,  0. ]])"
      ]
     },
     "execution_count": 87,
     "metadata": {},
     "output_type": "execute_result"
    }
   ],
   "source": [
    "central_voronoi_3d = np.array([vor3d.vertices[idx] for idx in vor3d.regions[vor3d.point_region[central_idx]]])\n",
    "central_voronoi_3d"
   ]
  },
  {
   "cell_type": "code",
   "execution_count": 88,
   "metadata": {
    "collapsed": false
   },
   "outputs": [],
   "source": [
    "#%matplotlib wx\n",
    "#from mpl_toolkits.mplot3d import Axes3D\n",
    "#fig = figure()\n",
    "#ax = fig.add_subplot(111, projection='3d')\n",
    "#ax.scatter(*central_voronoi_3d.T)\n",
    "#ax.plot(*central_voronoi_3d.T)"
   ]
  },
  {
   "cell_type": "code",
   "execution_count": 90,
   "metadata": {
    "collapsed": false
   },
   "outputs": [],
   "source": [
    "from scipy.spatial import ConvexHull\n",
    "hull = ConvexHull(central_voronoi_3d)"
   ]
  },
  {
   "cell_type": "code",
   "execution_count": 91,
   "metadata": {
    "collapsed": true
   },
   "outputs": [],
   "source": [
    "from mpl_toolkits.mplot3d.art3d import Poly3DCollection"
   ]
  },
  {
   "cell_type": "code",
   "execution_count": 92,
   "metadata": {
    "collapsed": false
   },
   "outputs": [],
   "source": [
    "## Only triangular faces yet\n",
    "#fig = figure()\n",
    "#ax = fig.add_subplot(111, projection='3d')\n",
    "#for triangles in hull.simplices:\n",
    "#    ax.add_collection3d(Poly3DCollection([[\n",
    "#            central_voronoi_3d[triangles[0],:],\n",
    "#            central_voronoi_3d[triangles[1],:],\n",
    "#            central_voronoi_3d[triangles[2],:]]],linewidths=1, alpha=0.2))"
   ]
  },
  {
   "cell_type": "code",
   "execution_count": 93,
   "metadata": {
    "collapsed": false
   },
   "outputs": [
    {
     "data": {
      "text/plain": [
       "(8.485281374238571, 2.0000000000000004)"
      ]
     },
     "execution_count": 93,
     "metadata": {},
     "output_type": "execute_result"
    }
   ],
   "source": [
    "hull.area, hull.volume"
   ]
  },
  {
   "cell_type": "code",
   "execution_count": 94,
   "metadata": {
    "collapsed": false
   },
   "outputs": [
    {
     "data": {
      "text/plain": [
       "array([[-0.5,  0.5,  0.5],\n",
       "       [ 0.5, -0.5,  0.5],\n",
       "       [ 0.5,  0.5,  0.5],\n",
       "       [ 0. ,  0. ,  0. ],\n",
       "       [ 1. ,  0. ,  1. ],\n",
       "       [ 0.5,  0.5,  1.5],\n",
       "       [ 0. ,  1. ,  1. ],\n",
       "       [-0.5, -0.5,  0.5],\n",
       "       [-0.5,  0.5,  1.5],\n",
       "       [-1. ,  0. ,  1. ],\n",
       "       [ 0.5, -0.5,  1.5],\n",
       "       [-0.5, -0.5,  1.5],\n",
       "       [ 0. ,  0. ,  2. ],\n",
       "       [ 0. , -1. ,  1. ]])"
      ]
     },
     "execution_count": 94,
     "metadata": {},
     "output_type": "execute_result"
    }
   ],
   "source": [
    "central_voronoi_3d"
   ]
  },
  {
   "cell_type": "code",
   "execution_count": 95,
   "metadata": {
    "collapsed": false
   },
   "outputs": [
    {
     "data": {
      "text/plain": [
       "array([[ 5,  8, 12],\n",
       "       [ 5,  8,  6],\n",
       "       [ 0,  8,  6],\n",
       "       [ 0,  8,  9],\n",
       "       [ 2,  5,  6],\n",
       "       [ 2,  5,  4],\n",
       "       [ 2,  0,  6],\n",
       "       [ 2,  0,  3],\n",
       "       [10,  5,  4],\n",
       "       [10,  5, 12],\n",
       "       [11,  8,  9],\n",
       "       [11,  8, 12],\n",
       "       [11, 10, 12],\n",
       "       [11, 10, 13],\n",
       "       [ 7,  0,  3],\n",
       "       [ 7,  0,  9],\n",
       "       [ 7, 11,  9],\n",
       "       [ 7, 11, 13],\n",
       "       [ 1,  2,  3],\n",
       "       [ 1,  2,  4],\n",
       "       [ 1, 10,  4],\n",
       "       [ 1, 10, 13],\n",
       "       [ 1,  7,  3],\n",
       "       [ 1,  7, 13]], dtype=int32)"
      ]
     },
     "execution_count": 95,
     "metadata": {},
     "output_type": "execute_result"
    }
   ],
   "source": [
    "hull.simplices"
   ]
  },
  {
   "cell_type": "code",
   "execution_count": 96,
   "metadata": {
    "collapsed": false
   },
   "outputs": [],
   "source": [
    "#fig = figure()\n",
    "#ax = fig.add_subplot(111, projection='3d')\n",
    "#ax.plot_trisurf(central_voronoi_3d[:,0], central_voronoi_3d[:,1], central_voronoi_3d[:,2],\n",
    "#                triangles=hull.simplices)"
   ]
  },
  {
   "cell_type": "code",
   "execution_count": 97,
   "metadata": {
    "collapsed": false
   },
   "outputs": [
    {
     "data": {
      "text/plain": [
       "{(0, 2): [6, 7],\n",
       " (0, 3): [14, 7],\n",
       " (0, 6): [2, 6],\n",
       " (0, 7): [14, 15],\n",
       " (0, 8): [2, 3],\n",
       " (0, 9): [3, 15],\n",
       " (1, 2): [18, 19],\n",
       " (1, 3): [18, 22],\n",
       " (1, 4): [19, 20],\n",
       " (1, 7): [22, 23],\n",
       " (1, 10): [20, 21],\n",
       " (1, 13): [21, 23],\n",
       " (2, 3): [18, 7],\n",
       " (2, 4): [19, 5],\n",
       " (2, 5): [4, 5],\n",
       " (2, 6): [4, 6],\n",
       " (3, 7): [22, 14],\n",
       " (4, 5): [8, 5],\n",
       " (4, 10): [8, 20],\n",
       " (5, 6): [1, 4],\n",
       " (5, 8): [0, 1],\n",
       " (5, 10): [8, 9],\n",
       " (5, 12): [0, 9],\n",
       " (6, 8): [1, 2],\n",
       " (7, 9): [16, 15],\n",
       " (7, 11): [16, 17],\n",
       " (7, 13): [17, 23],\n",
       " (8, 9): [10, 3],\n",
       " (8, 11): [10, 11],\n",
       " (8, 12): [0, 11],\n",
       " (9, 11): [16, 10],\n",
       " (10, 11): [12, 13],\n",
       " (10, 12): [9, 12],\n",
       " (10, 13): [13, 21],\n",
       " (11, 12): [11, 12],\n",
       " (11, 13): [17, 13]}"
      ]
     },
     "execution_count": 97,
     "metadata": {},
     "output_type": "execute_result"
    }
   ],
   "source": [
    "from collections import defaultdict\n",
    "edges = defaultdict(set)\n",
    "for simplex_idx, simplex in enumerate(hull.simplices):\n",
    "    edges[tuple(sorted([simplex[0],simplex[1]]))].add(simplex_idx)\n",
    "    edges[tuple(sorted([simplex[1],simplex[2]]))].add(simplex_idx)\n",
    "    edges[tuple(sorted([simplex[2],simplex[0]]))].add(simplex_idx)\n",
    "# convert to dictionary of lists (from defaultdict of sets)\n",
    "edges = {k: list(v) for k, v in edges.iteritems()}\n",
    "edges"
   ]
  },
  {
   "cell_type": "code",
   "execution_count": 98,
   "metadata": {
    "collapsed": false,
    "scrolled": true
   },
   "outputs": [
    {
     "data": {
      "text/plain": [
       "[array([12, 10, 13, 11], dtype=int32),\n",
       " array([3, 0, 9, 7], dtype=int32),\n",
       " array([ 9,  7, 13, 11], dtype=int32),\n",
       " array([6, 2, 4, 5], dtype=int32),\n",
       " array([12,  5,  6,  8], dtype=int32),\n",
       " array([3, 1, 4, 2], dtype=int32),\n",
       " array([ 4,  1, 13, 10], dtype=int32),\n",
       " array([ 9,  8, 12, 11], dtype=int32),\n",
       " array([6, 0, 9, 8], dtype=int32),\n",
       " array([ 4,  5, 12, 10], dtype=int32),\n",
       " array([6, 0, 3, 2], dtype=int32),\n",
       " array([ 3,  1, 13,  7], dtype=int32)]"
      ]
     },
     "execution_count": 98,
     "metadata": {},
     "output_type": "execute_result"
    }
   ],
   "source": [
    "def are_coplanar(tr1, tr2, coords):\n",
    "    normal1 = get_normal(tr1, coords)\n",
    "    normal2 = get_normal(tr2, coords)\n",
    "    np.dot()\n",
    "\n",
    "def get_missing_point(tr, p1, p2):\n",
    "    \"\"\"\n",
    "    Tr is a list of 3 indices, p1 and p2 must be in the list, the third index is returned\n",
    "    \"\"\"\n",
    "    missing = None\n",
    "    for idx, vertex in enumerate(tr):\n",
    "        if vertex == p1 or vertex == p2:\n",
    "            pass\n",
    "        else:\n",
    "            if missing is not None:\n",
    "                raise ValueError(\"Two missing points found...\")\n",
    "            missing = vertex\n",
    "\n",
    "    if missing is None:\n",
    "        raise ValueError(\"No missing points!\")\n",
    "        \n",
    "    return missing\n",
    "                \n",
    "def are_coplanar(v1,v2,v3):\n",
    "    return float(abs(np.dot(np.cross(v1,v2),v3))) < 1.e-6\n",
    "    \n",
    "faces = [] # List of faces (elements are list of vertex ids)\n",
    "merged_simplices = [] # List of found simplices that have been merged\n",
    "for (p1, p2), tr in edges.iteritems():\n",
    "    if len(tr) != 2:\n",
    "        # ??\n",
    "        print \"Warning!\", p1, p2, tr\n",
    "        continue\n",
    "    else:\n",
    "        # Check if two triangles are coplanar\n",
    "        otherpoint0 = get_missing_point(hull.simplices[tr[0]], p1, p2)\n",
    "        otherpoint1 = get_missing_point(hull.simplices[tr[1]], p1, p2)\n",
    "        # The actual vectors\n",
    "        otherpoint0_p = hull.points[otherpoint0]\n",
    "        otherpoint1_p = hull.points[otherpoint1]\n",
    "        p1_p = hull.points[p1]\n",
    "        p2_p = hull.points[p2]\n",
    "        \n",
    "        if are_coplanar(p2_p - p1_p, otherpoint0_p - p1_p, otherpoint1_p - p1_p):\n",
    "            faces.append(np.array([otherpoint0, p1, otherpoint1, p2]))\n",
    "            merged_simplices += [tr[0], tr[1]]\n",
    "\n",
    "merged_simplices = set(merged_simplices)\n",
    "for face in range(len(hull.simplices)): \n",
    "    if face not in merged_simplices:\n",
    "        faces.append(face)\n",
    "faces"
   ]
  },
  {
   "cell_type": "code",
   "execution_count": 99,
   "metadata": {
    "collapsed": false
   },
   "outputs": [
    {
     "name": "stdout",
     "output_type": "stream",
     "text": [
      "Triangles: 0\n",
      "Quadrilaterals: 12\n"
     ]
    }
   ],
   "source": [
    "print \"Triangles:\",len([_ for _ in faces if len(_) == 3])\n",
    "print \"Quadrilaterals:\", len([_ for _ in faces if len(_) == 4])"
   ]
  },
  {
   "cell_type": "code",
   "execution_count": 102,
   "metadata": {
    "collapsed": false,
    "scrolled": true
   },
   "outputs": [
    {
     "data": {
      "text/plain": [
       "[[array([ 0.,  0.,  2.]),\n",
       "  array([ 0.5, -0.5,  1.5]),\n",
       "  array([ 0., -1.,  1.]),\n",
       "  array([-0.5, -0.5,  1.5])],\n",
       " [array([ 0.,  0.,  0.]),\n",
       "  array([-0.5,  0.5,  0.5]),\n",
       "  array([-1.,  0.,  1.]),\n",
       "  array([-0.5, -0.5,  0.5])],\n",
       " [array([-1.,  0.,  1.]),\n",
       "  array([-0.5, -0.5,  0.5]),\n",
       "  array([ 0., -1.,  1.]),\n",
       "  array([-0.5, -0.5,  1.5])],\n",
       " [array([ 0.,  1.,  1.]),\n",
       "  array([ 0.5,  0.5,  0.5]),\n",
       "  array([ 1.,  0.,  1.]),\n",
       "  array([ 0.5,  0.5,  1.5])],\n",
       " [array([ 0.,  0.,  2.]),\n",
       "  array([ 0.5,  0.5,  1.5]),\n",
       "  array([ 0.,  1.,  1.]),\n",
       "  array([-0.5,  0.5,  1.5])],\n",
       " [array([ 0.,  0.,  0.]),\n",
       "  array([ 0.5, -0.5,  0.5]),\n",
       "  array([ 1.,  0.,  1.]),\n",
       "  array([ 0.5,  0.5,  0.5])],\n",
       " [array([ 1.,  0.,  1.]),\n",
       "  array([ 0.5, -0.5,  0.5]),\n",
       "  array([ 0., -1.,  1.]),\n",
       "  array([ 0.5, -0.5,  1.5])],\n",
       " [array([-1.,  0.,  1.]),\n",
       "  array([-0.5,  0.5,  1.5]),\n",
       "  array([ 0.,  0.,  2.]),\n",
       "  array([-0.5, -0.5,  1.5])],\n",
       " [array([ 0.,  1.,  1.]),\n",
       "  array([-0.5,  0.5,  0.5]),\n",
       "  array([-1.,  0.,  1.]),\n",
       "  array([-0.5,  0.5,  1.5])],\n",
       " [array([ 1.,  0.,  1.]),\n",
       "  array([ 0.5,  0.5,  1.5]),\n",
       "  array([ 0.,  0.,  2.]),\n",
       "  array([ 0.5, -0.5,  1.5])],\n",
       " [array([ 0.,  1.,  1.]),\n",
       "  array([-0.5,  0.5,  0.5]),\n",
       "  array([ 0.,  0.,  0.]),\n",
       "  array([ 0.5,  0.5,  0.5])],\n",
       " [array([ 0.,  0.,  0.]),\n",
       "  array([ 0.5, -0.5,  0.5]),\n",
       "  array([ 0., -1.,  1.]),\n",
       "  array([-0.5, -0.5,  0.5])]]"
      ]
     },
     "execution_count": 102,
     "metadata": {},
     "output_type": "execute_result"
    }
   ],
   "source": [
    "faces_coords = [[hull.points[pt] for pt in face] for face in faces]\n",
    "faces_coords"
   ]
  },
  {
   "cell_type": "code",
   "execution_count": 135,
   "metadata": {
    "collapsed": false
   },
   "outputs": [],
   "source": [
    "%matplotlib wx\n",
    "fig = figure()\n",
    "ax = fig.add_subplot(111, projection='3d')\n",
    "\n",
    "ax.add_collection3d(Poly3DCollection(faces_coords,linewidth=1, alpha=0.6, edgecolor=\"k\", facecolor=\"#ccccff\"))\n",
    "    \n",
    "axes_length = 2\n",
    "# Add axes\n",
    "ax.plot3D((0,axes_length),(0,0),(0,0), color='r', lw=1)\n",
    "ax.plot3D((0,0),(0,axes_length),(0,0), color='r', lw=1)\n",
    "ax.plot3D((0,0),(0,0),(0,axes_length), color='r', lw=1)\n",
    "\n",
    "## Reset limits\n",
    "ax.set_xlim(-1,1)\n",
    "ax.set_ylim(-1,1)\n",
    "ax.set_zlim(-1,1)\n",
    "ax.axis('off')\n",
    "ax.view_init(elev=0, azim=60)"
   ]
  },
  {
   "cell_type": "code",
   "execution_count": 128,
   "metadata": {
    "collapsed": false
   },
   "outputs": [],
   "source": []
  },
  {
   "cell_type": "markdown",
   "metadata": {},
   "source": [
    "# 2D convex hull"
   ]
  },
  {
   "cell_type": "code",
   "execution_count": 24,
   "metadata": {
    "collapsed": true
   },
   "outputs": [],
   "source": [
    "points2d = [[0,0],[0,1],[1,0],[1,1],[2,0],[2,1]]; hull2d = ConvexHull(points2d)#, hull_options=\"Qt Qbb Qc\")"
   ]
  },
  {
   "cell_type": "code",
   "execution_count": 25,
   "metadata": {
    "collapsed": false
   },
   "outputs": [
    {
     "data": {
      "text/plain": [
       "array([[4, 0],\n",
       "       [1, 0],\n",
       "       [5, 4],\n",
       "       [5, 1]], dtype=int32)"
      ]
     },
     "execution_count": 25,
     "metadata": {},
     "output_type": "execute_result"
    }
   ],
   "source": [
    "hull2d.simplices"
   ]
  },
  {
   "cell_type": "code",
   "execution_count": 35,
   "metadata": {
    "collapsed": false
   },
   "outputs": [
    {
     "data": {
      "text/plain": [
       "array([[ 0.5, -0.5,  0. ],\n",
       "       [-0.5, -0.5,  0. ],\n",
       "       [ 0.5, -0.5,  1. ],\n",
       "       [-0.5, -0.5,  1. ],\n",
       "       [-0.5,  0.5,  1. ],\n",
       "       [-0.5,  0.5,  0. ],\n",
       "       [ 0.5,  0.5,  1. ],\n",
       "       [ 0.5,  0.5,  0. ]])"
      ]
     },
     "execution_count": 35,
     "metadata": {},
     "output_type": "execute_result"
    }
   ],
   "source": [
    "hull.points"
   ]
  },
  {
   "cell_type": "code",
   "execution_count": null,
   "metadata": {
    "collapsed": true
   },
   "outputs": [],
   "source": []
  }
 ],
 "metadata": {
  "kernelspec": {
   "display_name": "Python 2",
   "language": "python",
   "name": "python2"
  },
  "language_info": {
   "codemirror_mode": {
    "name": "ipython",
    "version": 2
   },
   "file_extension": ".py",
   "mimetype": "text/x-python",
   "name": "python",
   "nbconvert_exporter": "python",
   "pygments_lexer": "ipython2",
   "version": "2.7.6"
  }
 },
 "nbformat": 4,
 "nbformat_minor": 0
}
